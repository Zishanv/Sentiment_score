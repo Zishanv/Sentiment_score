{
 "cells": [
  {
   "cell_type": "code",
   "execution_count": 9,
   "id": "ee7bb031",
   "metadata": {},
   "outputs": [],
   "source": [
    "import numpy as np  \n",
    "import pandas as pd\n",
    "from pandas import DataFrame, Series\n",
    "import matplotlib.pyplot as plt\n",
    "\n",
    "%matplotlib inline\n",
    "import nltk\n",
    "import gensim\n",
    "import string\n",
    "import warnings\n",
    "\n",
    "# Ignore all warnings\n",
    "warnings.filterwarnings(\"ignore\")"
   ]
  },
  {
   "cell_type": "code",
   "execution_count": 10,
   "id": "f47b20f0",
   "metadata": {},
   "outputs": [
    {
     "name": "stderr",
     "output_type": "stream",
     "text": [
      "[nltk_data] Downloading package punkt to\n",
      "[nltk_data]     /Users/zishanvisram/nltk_data...\n",
      "[nltk_data]   Package punkt is already up-to-date!\n",
      "[nltk_data] Downloading package stopwords to\n",
      "[nltk_data]     /Users/zishanvisram/nltk_data...\n",
      "[nltk_data]   Package stopwords is already up-to-date!\n"
     ]
    },
    {
     "data": {
      "text/plain": [
       "True"
      ]
     },
     "execution_count": 10,
     "metadata": {},
     "output_type": "execute_result"
    }
   ],
   "source": [
    "nltk.download('punkt')\n",
    "nltk.download('stopwords')"
   ]
  },
  {
   "cell_type": "code",
   "execution_count": 11,
   "id": "7625fd38",
   "metadata": {},
   "outputs": [],
   "source": [
    "stopwords = nltk.corpus.stopwords.words('english')"
   ]
  },
  {
   "cell_type": "code",
   "execution_count": 12,
   "id": "036ed7ea",
   "metadata": {},
   "outputs": [
    {
     "name": "stderr",
     "output_type": "stream",
     "text": [
      "[nltk_data] Downloading package vader_lexicon to\n",
      "[nltk_data]     /Users/zishanvisram/nltk_data...\n",
      "[nltk_data]   Package vader_lexicon is already up-to-date!\n"
     ]
    }
   ],
   "source": [
    "\n",
    "from nltk.sentiment import SentimentIntensityAnalyzer\n",
    "\n",
    "nltk.download('vader_lexicon')  # Download the required lexicon\n",
    "\n",
    "def get_sentiment_score(sentence):\n",
    "    sid = SentimentIntensityAnalyzer()\n",
    "    sentiment_scores = sid.polarity_scores(sentence)\n",
    "    return sentiment_scores['compound']\n",
    "\n",
    "\n"
   ]
  },
  {
   "cell_type": "code",
   "execution_count": 18,
   "id": "bbaba06c",
   "metadata": {},
   "outputs": [
    {
     "name": "stdout",
     "output_type": "stream",
     "text": [
      "Conversation between customer and agent: Customer: Hi there! I just wanted to reach out and let you know how incredibly happy I am with your service. It's been an amazing experience!  Tech Agent: Thank you so much for your kind words! We're thrilled to hear that you're satisfied with our service. It's always a pleasure to receive positive feedback. Is there anything specific that stood out to you?  Customer: Absolutely! First of all, your response time was incredibly fast. I submitted a support ticket, and within minutes, I received a helpful and detailed response. It made me feel valued as a customer.  Tech Agent: That's wonderful to hear! We strive to provide prompt and efficient support, so it's great to know that we met your expectations. We believe that quick response times are essential in resolving any issues or concerns our customers may have.  Customer: You definitely nailed it! Additionally, the support I received was top-notch. The technician I interacted with was knowledgeable, patient, and guided me through the troubleshooting process with clear instructions. They made it so easy for me to resolve my problem.  Tech Agent: Thank you for recognizing our technician's efforts. We have a dedicated team of skilled professionals who are committed to assisting our customers in the best possible way. We want to ensure that you have a smooth experience and that any difficulties are swiftly resolved.  Customer: Well, you certainly succeeded in that. It's refreshing to receive such excellent customer service. It's evident that you value your customers and take pride in what you do.  Tech Agent: We genuinely appreciate your kind words. Customer satisfaction is our top priority, and we're delighted that we could meet your expectations. If you ever need any further assistance or have any questions in the future, please don't hesitate to reach out. We're here to help!  Customer: Absolutely, I won't hesitate to contact you if the need arises. Once again, thank you for the outstanding service. Keep up the fantastic work!  Tech Agent: Thank you for your support and encouragement! We'll continue striving to provide exceptional service to all our customers. Have a wonderful day!  Customer: You too! Take care and keep up the great work. Goodbye!  Tech Agent: Goodbye and take care!\n",
      "\n",
      "\n",
      "Sentiment score: 0.9993\n"
     ]
    }
   ],
   "source": [
    "# Example usage\n",
    "script_conversation= input(\"Conversation between customer and agent: \")\n",
    "score = get_sentiment_score(script_conversation)\n",
    "print(\"\\n\")\n",
    "print(\"Sentiment score:\", score)"
   ]
  },
  {
   "cell_type": "code",
   "execution_count": 22,
   "id": "99b5ca24",
   "metadata": {},
   "outputs": [
    {
     "name": "stdout",
     "output_type": "stream",
     "text": [
      "Conversation between customer and agent:I need to speak to someone about the terrible service I've been receiving. It's been nothing but a nightmare!\n",
      "\n",
      "\n",
      "Sentiment score: -0.3274\n"
     ]
    }
   ],
   "source": [
    "script_conversation2= input(\"Conversation between customer and agent:\")\n",
    "score2 = get_sentiment_score(script_conversation2)\n",
    "print(\"\\n\")\n",
    "\n",
    "print(\"Sentiment score:\", score2)"
   ]
  },
  {
   "cell_type": "code",
   "execution_count": 24,
   "id": "bd33f147",
   "metadata": {},
   "outputs": [
    {
     "name": "stdout",
     "output_type": "stream",
     "text": [
      "Conversation between customer and agent:Customer: Hi, I have a question regarding a feature in your software. Can you assist me with that?\n",
      "\n",
      "\n",
      "Sentiment score: 0.0\n"
     ]
    }
   ],
   "source": [
    "script_conversation3= input(\"Conversation between customer and agent:\")\n",
    "score3 = get_sentiment_score(script_conversation3)\n",
    "print(\"\\n\")\n",
    "\n",
    "print(\"Sentiment score:\", score3)"
   ]
  },
  {
   "cell_type": "code",
   "execution_count": 25,
   "id": "a9625b8a",
   "metadata": {},
   "outputs": [
    {
     "name": "stdout",
     "output_type": "stream",
     "text": [
      "Conversation between customer and agent:Today is a beautiful day, and I'm feeling truly content and grateful for all the blessings in my life\n",
      "\n",
      "\n",
      "Sentiment score: 0.93\n"
     ]
    }
   ],
   "source": [
    "script_conversation4= input(\"Conversation between customer and agent:\")\n",
    "score4 = get_sentiment_score(script_conversation4)\n",
    "print(\"\\n\")\n",
    "\n",
    "print(\"Sentiment score:\", score4)"
   ]
  },
  {
   "cell_type": "code",
   "execution_count": null,
   "id": "ec1210fd",
   "metadata": {},
   "outputs": [],
   "source": []
  },
  {
   "cell_type": "code",
   "execution_count": 26,
   "id": "df472cbc",
   "metadata": {},
   "outputs": [
    {
     "name": "stdout",
     "output_type": "stream",
     "text": [
      "Conversation between customer and agent:The news of her sudden departure left us all feeling heartbroken and filled with sorrow\n",
      "\n",
      "\n",
      "Sentiment score: -0.802\n"
     ]
    }
   ],
   "source": [
    "script_conversation5= input(\"Conversation between customer and agent:\")\n",
    "score5 = get_sentiment_score(script_conversation5)\n",
    "print(\"\\n\")\n",
    "\n",
    "print(\"Sentiment score:\", score5)"
   ]
  },
  {
   "cell_type": "code",
   "execution_count": null,
   "id": "bf13e17f",
   "metadata": {},
   "outputs": [],
   "source": []
  },
  {
   "cell_type": "code",
   "execution_count": 27,
   "id": "701947d5",
   "metadata": {},
   "outputs": [
    {
     "name": "stdout",
     "output_type": "stream",
     "text": [
      "Conversation between customer and agent:The meeting is scheduled for tomorrow at 2 p.m.\n",
      "\n",
      "\n",
      "Sentiment score: 0.0\n"
     ]
    }
   ],
   "source": [
    "script_conversation5= input(\"Conversation between customer and agent:\")\n",
    "score5 = get_sentiment_score(script_conversation3)\n",
    "print(\"\\n\")\n",
    "\n",
    "print(\"Sentiment score:\", score5)"
   ]
  },
  {
   "cell_type": "code",
   "execution_count": null,
   "id": "908219e4",
   "metadata": {},
   "outputs": [],
   "source": []
  },
  {
   "cell_type": "code",
   "execution_count": 28,
   "id": "4458030b",
   "metadata": {},
   "outputs": [
    {
     "name": "stdout",
     "output_type": "stream",
     "text": [
      "Conversation between customer and agent:The train arrived at the platform on time, and passengers boarded calmly\n",
      "\n",
      "\n",
      "Sentiment score: 0.3182\n"
     ]
    }
   ],
   "source": [
    "script_conversation6= input(\"Conversation between customer and agent:\")\n",
    "score6 = get_sentiment_score(script_conversation6)\n",
    "print(\"\\n\")\n",
    "\n",
    "print(\"Sentiment score:\", score6)"
   ]
  },
  {
   "cell_type": "code",
   "execution_count": null,
   "id": "671995f0",
   "metadata": {},
   "outputs": [],
   "source": []
  },
  {
   "cell_type": "code",
   "execution_count": 29,
   "id": "3eeb92f0",
   "metadata": {},
   "outputs": [
    {
     "name": "stdout",
     "output_type": "stream",
     "text": [
      "Conversation between customer and agent:Despite their best efforts, they couldn't save the cherished old tree from being cut down, leaving a deep sense of loss in the community.\n",
      "\n",
      "\n",
      "Sentiment score: -0.9021\n"
     ]
    }
   ],
   "source": [
    "script_conversation7= input(\"Conversation between customer and agent:\")\n",
    "score7 = get_sentiment_score(script_conversation7)\n",
    "print(\"\\n\")\n",
    "\n",
    "print(\"Sentiment score:\", score7)"
   ]
  },
  {
   "cell_type": "code",
   "execution_count": 30,
   "id": "500b3dc3",
   "metadata": {},
   "outputs": [
    {
     "name": "stdout",
     "output_type": "stream",
     "text": [
      "Conversation between customer and agent:The weather today was not as good as i thought\n",
      "\n",
      "\n",
      "Sentiment score: -0.3412\n"
     ]
    }
   ],
   "source": [
    "script_conversation8= input(\"Conversation between customer and agent:\")\n",
    "score8 = get_sentiment_score(script_conversation8)\n",
    "print(\"\\n\")\n",
    "\n",
    "print(\"Sentiment score:\", score8)"
   ]
  },
  {
   "cell_type": "code",
   "execution_count": 31,
   "id": "356c65e7",
   "metadata": {},
   "outputs": [
    {
     "name": "stdout",
     "output_type": "stream",
     "text": [
      "Conversation between customer and agent:This is the best way to enjoy my day off\n",
      "\n",
      "\n",
      "Sentiment score: 0.8126\n"
     ]
    }
   ],
   "source": [
    "script_conversation9= input(\"Conversation between customer and agent:\")\n",
    "score9 = get_sentiment_score(script_conversation9)\n",
    "print(\"\\n\")\n",
    "\n",
    "print(\"Sentiment score:\", score9)"
   ]
  },
  {
   "cell_type": "code",
   "execution_count": 32,
   "id": "81ba7beb",
   "metadata": {},
   "outputs": [
    {
     "name": "stdout",
     "output_type": "stream",
     "text": [
      "Conversation between customer and agent:How do I ask for fries?\n",
      "\n",
      "\n",
      "Sentiment score: 0.0\n"
     ]
    }
   ],
   "source": [
    "script_conversation10= input(\"Conversation between customer and agent:\")\n",
    "score10 = get_sentiment_score(script_conversation10)\n",
    "print(\"\\n\")\n",
    "\n",
    "print(\"Sentiment score:\", score10)"
   ]
  },
  {
   "cell_type": "code",
   "execution_count": 33,
   "id": "254c9c4b",
   "metadata": {},
   "outputs": [
    {
     "name": "stdout",
     "output_type": "stream",
     "text": [
      "Conversation between customer and agent:This is so much fun!\n",
      "\n",
      "\n",
      "Sentiment score: 0.5954\n"
     ]
    }
   ],
   "source": [
    "script_conversation11= input(\"Conversation between customer and agent:\")\n",
    "score11 = get_sentiment_score(script_conversation11)\n",
    "print(\"\\n\")\n",
    "\n",
    "print(\"Sentiment score:\", score11)"
   ]
  },
  {
   "cell_type": "code",
   "execution_count": 34,
   "id": "46edf170",
   "metadata": {},
   "outputs": [],
   "source": [
    "sentiment_scores=[]\n",
    "sentiment_scores.append(score)\n",
    "sentiment_scores.append(score2)\n",
    "sentiment_scores.append(score3)\n",
    "sentiment_scores.append(score4)\n",
    "sentiment_scores.append(score5)\n",
    "sentiment_scores.append(score6)\n",
    "sentiment_scores.append(score7)\n",
    "sentiment_scores.append(score8)\n",
    "sentiment_scores.append(score8)\n",
    "sentiment_scores.append(score9)\n",
    "sentiment_scores.append(score10)\n",
    "sentiment_scores.append(score11)"
   ]
  },
  {
   "cell_type": "code",
   "execution_count": 44,
   "id": "ed007c0e",
   "metadata": {},
   "outputs": [
    {
     "data": {
      "text/html": [
       "<div>\n",
       "<style scoped>\n",
       "    .dataframe tbody tr th:only-of-type {\n",
       "        vertical-align: middle;\n",
       "    }\n",
       "\n",
       "    .dataframe tbody tr th {\n",
       "        vertical-align: top;\n",
       "    }\n",
       "\n",
       "    .dataframe thead th {\n",
       "        text-align: right;\n",
       "    }\n",
       "</style>\n",
       "<table border=\"1\" class=\"dataframe\">\n",
       "  <thead>\n",
       "    <tr style=\"text-align: right;\">\n",
       "      <th></th>\n",
       "      <th>0</th>\n",
       "    </tr>\n",
       "  </thead>\n",
       "  <tbody>\n",
       "    <tr>\n",
       "      <th>0</th>\n",
       "      <td>0.9993</td>\n",
       "    </tr>\n",
       "    <tr>\n",
       "      <th>1</th>\n",
       "      <td>-0.3274</td>\n",
       "    </tr>\n",
       "    <tr>\n",
       "      <th>2</th>\n",
       "      <td>0.0000</td>\n",
       "    </tr>\n",
       "    <tr>\n",
       "      <th>3</th>\n",
       "      <td>0.9300</td>\n",
       "    </tr>\n",
       "    <tr>\n",
       "      <th>4</th>\n",
       "      <td>0.0000</td>\n",
       "    </tr>\n",
       "    <tr>\n",
       "      <th>5</th>\n",
       "      <td>0.3182</td>\n",
       "    </tr>\n",
       "    <tr>\n",
       "      <th>6</th>\n",
       "      <td>-0.9021</td>\n",
       "    </tr>\n",
       "    <tr>\n",
       "      <th>7</th>\n",
       "      <td>-0.3412</td>\n",
       "    </tr>\n",
       "    <tr>\n",
       "      <th>8</th>\n",
       "      <td>-0.3412</td>\n",
       "    </tr>\n",
       "    <tr>\n",
       "      <th>9</th>\n",
       "      <td>0.8126</td>\n",
       "    </tr>\n",
       "    <tr>\n",
       "      <th>10</th>\n",
       "      <td>0.0000</td>\n",
       "    </tr>\n",
       "    <tr>\n",
       "      <th>11</th>\n",
       "      <td>0.5954</td>\n",
       "    </tr>\n",
       "  </tbody>\n",
       "</table>\n",
       "</div>"
      ],
      "text/plain": [
       "         0\n",
       "0   0.9993\n",
       "1  -0.3274\n",
       "2   0.0000\n",
       "3   0.9300\n",
       "4   0.0000\n",
       "5   0.3182\n",
       "6  -0.9021\n",
       "7  -0.3412\n",
       "8  -0.3412\n",
       "9   0.8126\n",
       "10  0.0000\n",
       "11  0.5954"
      ]
     },
     "execution_count": 44,
     "metadata": {},
     "output_type": "execute_result"
    }
   ],
   "source": [
    "sentiment_scores=pd.DataFrame(sentiment_scores)\n",
    "sentiment_scores"
   ]
  },
  {
   "cell_type": "code",
   "execution_count": 79,
   "id": "0b314a2a",
   "metadata": {},
   "outputs": [
    {
     "data": {
      "image/png": "[encoded data removed]",
      "text/plain": [
       "<Figure size 640x480 with 1 Axes>"
      ]
     },
     "metadata": {},
     "output_type": "display_data"
    }
   ],
   "source": [
    "import matplotlib.patches as mpatches\n",
    "\n",
    "color_palette = ['green' if s > 0 else 'red' if s < 0 else 'blue' for s in sentiment_scores[0]]\n",
    "\n",
    "# Create a bar plot using Seaborn with color coding\n",
    "sns.barplot(x=sentiment_scores.index, y=0, data=sentiment_scores, palette=color_palette)\n",
    "\n",
    "# Add labels and title\n",
    "plt.xlabel('Conversation Number')\n",
    "plt.ylabel('Sentiment Score')\n",
    "plt.title('Sentiment Scores')\n",
    "\n",
    "# Set x-axis tick labels\n",
    "x_labels = ['conv' + str(i+1) for i in sentiment_scores.index]\n",
    "plt.xticks(range(len(sentiment_scores)), x_labels,rotation=90)\n",
    "legend_patches = [mpatches.Patch(color='green', label='Positive'),\n",
    "                  mpatches.Patch(color='red', label='Negative'),\n",
    "                  mpatches.Patch(color='blue', label='Neutral')]\n",
    "\n",
    "# Add legend\n",
    "plt.legend(handles=legend_patches)\n",
    "# Display the plot\n",
    "plt.savefig('senti.png')\n",
    "plt.show()\n",
    "\n",
    "\n",
    "\n"
   ]
  },
  {
   "cell_type": "code",
   "execution_count": null,
   "id": "29b57441",
   "metadata": {},
   "outputs": [],
   "source": []
  },
  {
   "cell_type": "code",
   "execution_count": null,
   "id": "01aa7c16",
   "metadata": {},
   "outputs": [],
   "source": []
  },
  {
   "cell_type": "code",
   "execution_count": null,
   "id": "30ed7f0c",
   "metadata": {},
   "outputs": [],
   "source": []
  },
  {
   "cell_type": "code",
   "execution_count": null,
   "id": "919e1790",
   "metadata": {},
   "outputs": [],
   "source": []
  },
  {
   "cell_type": "code",
   "execution_count": null,
   "id": "24faed14",
   "metadata": {},
   "outputs": [],
   "source": []
  },
  {
   "cell_type": "code",
   "execution_count": null,
   "id": "184bcc51",
   "metadata": {},
   "outputs": [],
   "source": []
  },
  {
   "cell_type": "code",
   "execution_count": null,
   "id": "cef79b41",
   "metadata": {},
   "outputs": [],
   "source": []
  },
  {
   "cell_type": "code",
   "execution_count": null,
   "id": "61b855f1",
   "metadata": {},
   "outputs": [],
   "source": []
  },
  {
   "cell_type": "code",
   "execution_count": null,
   "id": "2baf7b4b",
   "metadata": {},
   "outputs": [],
   "source": []
  },
  {
   "cell_type": "code",
   "execution_count": null,
   "id": "c168ba6a",
   "metadata": {},
   "outputs": [],
   "source": []
  },
  {
   "cell_type": "code",
   "execution_count": null,
   "id": "1273b8ff",
   "metadata": {},
   "outputs": [],
   "source": []
  },
  {
   "cell_type": "code",
   "execution_count": null,
   "id": "0134f813",
   "metadata": {},
   "outputs": [],
   "source": []
  },
  {
   "cell_type": "code",
   "execution_count": null,
   "id": "9460031e",
   "metadata": {},
   "outputs": [],
   "source": []
  },
  {
   "cell_type": "code",
   "execution_count": null,
   "id": "13c8f874",
   "metadata": {},
   "outputs": [],
   "source": []
  },
  {
   "cell_type": "code",
   "execution_count": null,
   "id": "45440997",
   "metadata": {},
   "outputs": [],
   "source": []
  },
  {
   "cell_type": "code",
   "execution_count": null,
   "id": "8e662a1e",
   "metadata": {},
   "outputs": [],
   "source": []
  },
  {
   "cell_type": "code",
   "execution_count": null,
   "id": "13941f0e",
   "metadata": {},
   "outputs": [],
   "source": []
  },
  {
   "cell_type": "code",
   "execution_count": null,
   "id": "30fb2928",
   "metadata": {},
   "outputs": [],
   "source": []
  },
  {
   "cell_type": "code",
   "execution_count": null,
   "id": "9f59195f",
   "metadata": {},
   "outputs": [],
   "source": []
  },
  {
   "cell_type": "code",
   "execution_count": null,
   "id": "c4b1e520",
   "metadata": {},
   "outputs": [],
   "source": []
  },
  {
   "cell_type": "code",
   "execution_count": null,
   "id": "405da39e",
   "metadata": {},
   "outputs": [],
   "source": []
  }
 ],
 "metadata": {
  "kernelspec": {
   "display_name": "Python 3 (ipykernel)",
   "language": "python",
   "name": "python3"
  },
  "language_info": {
   "codemirror_mode": {
    "name": "ipython",
    "version": 3
   },
   "file_extension": ".py",
   "mimetype": "text/x-python",
   "name": "python",
   "nbconvert_exporter": "python",
   "pygments_lexer": "ipython3",
   "version": "3.9.13"
  }
 },
 "nbformat": 4,
 "nbformat_minor": 5
}
